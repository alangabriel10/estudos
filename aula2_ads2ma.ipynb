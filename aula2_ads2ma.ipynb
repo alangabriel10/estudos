{
  "nbformat": 4,
  "nbformat_minor": 0,
  "metadata": {
    "colab": {
      "provenance": []
    },
    "kernelspec": {
      "name": "python3",
      "display_name": "Python 3"
    },
    "language_info": {
      "name": "python"
    }
  },
  "cells": [
    {
      "cell_type": "code",
      "execution_count": 12,
      "metadata": {
        "colab": {
          "base_uri": "https://localhost:8080/"
        },
        "id": "d7eKD9MIdTMP",
        "outputId": "9412e9d8-6d3b-4b81-d94a-4e43ed85c3a7"
      },
      "outputs": [
        {
          "output_type": "stream",
          "name": "stdout",
          "text": [
            "<class 'bool'>\n"
          ]
        }
      ],
      "source": [
        "# UNINASSAU\n",
        "# DOCENTE: CLOVES ROCHA\n",
        "# ESTUDANTE: ALAN GABRIEL\n",
        "# TIPOS PRIMITIVOS DE DADOS\n",
        "\n",
        "#print('olá mundo!')\n",
        "\n",
        "c = False\n",
        "print(type(c))\n",
        "\n"
      ]
    },
    {
      "cell_type": "code",
      "source": [],
      "metadata": {
        "id": "6S5wLrMUgm-K"
      },
      "execution_count": null,
      "outputs": []
    }
  ]
}